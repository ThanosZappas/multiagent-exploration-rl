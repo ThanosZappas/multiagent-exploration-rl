{
 "cells": [
  {
   "metadata": {
    "ExecuteTime": {
     "end_time": "2025-03-13T08:42:31.182588Z",
     "start_time": "2025-03-13T08:42:30.789817Z"
    }
   },
   "cell_type": "code",
   "source": [
    "# Provides support for large, multi-dimensional arrays and matrices, as well as a wide range of mathematical functions\n",
    "# We will be using this library to initialize our maze.\n",
    "import numpy as np\n",
    "\n",
    "# A 2D plotting library that enables users to create a wide variety of high-quality plots and visualizations.\n",
    "# We will be using this library to display our maze in a visually appealing way.\n",
    "import matplotlib.pyplot as plt\n",
    "\n",
    "# A library that provides various functions for working with time-related operations. We will be using this library\n",
    "# to give us time to look at how the agent is progressing through the maze\n",
    "import time\n",
    "\n",
    "import random\n",
    "\n",
    "print(\"You have imported all the libraries.\")"
   ],
   "id": "f65a7297e7798867",
   "outputs": [
    {
     "name": "stdout",
     "output_type": "stream",
     "text": [
      "You have imported all the libraries.\n"
     ]
    }
   ],
   "execution_count": 1
  },
  {
   "cell_type": "code",
   "id": "initial_id",
   "metadata": {
    "collapsed": true,
    "ExecuteTime": {
     "end_time": "2025-03-13T09:33:21.089844Z",
     "start_time": "2025-03-13T09:33:21.080709Z"
    }
   },
   "source": [
    "class Maze:\n",
    "    def __init__(self, maze_layout, start_position):\n",
    "        # Initialize Maze object with the provided maze layout and start_position\n",
    "        self.maze_layout = maze_layout\n",
    "        self.explorable_cells = np.sum(self.maze_layout == 0) # Count the number of explorable cells in the maze\n",
    "        self.maze_height = maze_layout.shape[0]-1 # Get the height of the maze (number of rows)\n",
    "        self.maze_width = maze_layout.shape[1]-1  # Get the width of the maze (number of columns)\n",
    "        self.start_position = start_position    # Set the start position in the maze as a tuple (x, y)\n",
    "        \n",
    "    def draw_maze(self, agent=None, start_position=None):\n",
    "        print(\"Maximum cells to explore: \", self.explorable_cells)\n",
    "        plt.imshow(self.maze_layout, cmap=plt.cm.binary, interpolation='nearest')\n",
    "        if agent:\n",
    "            plt.scatter(agent.y, agent.x, color='red', s=100, marker='o')\n",
    "        elif start_position:\n",
    "            plt.scatter(self.start_position[0],self.start_position[1], color='red', s=100, marker='o')\n",
    "        plt.xticks([])\n",
    "        plt.yticks([])\n",
    "        plt.show()\n",
    "\n",
    "def generate_maze(rows, cols, obs_prob=0.85):\n",
    "        rows = int(rows / 2)\n",
    "        cols = int(cols / 2)\n",
    "\n",
    "        maze_layout = np.ones((rows * 2 + 1, cols * 2 + 1))\n",
    "\n",
    "        x, y = (0, 0)\n",
    "\n",
    "        stack = [(x, y)]\n",
    "        while len(stack) > 0:\n",
    "            x, y = stack[-1]\n",
    "\n",
    "            directions = [(0, 1), (1, 0), (0, -1), (-1, 0)]\n",
    "            random.shuffle(directions)\n",
    "\n",
    "            for dx, dy in directions:\n",
    "                nx, ny = x + dx, y + dy\n",
    "                if nx >= 0 and ny >= 0 and nx < rows and ny < cols and maze_layout[2 * nx + 1, 2 * ny + 1] == 1:\n",
    "                    maze_layout[2 * nx + 1, 2 * ny + 1] = 0\n",
    "                    maze_layout[2 * x + 1 + dx, 2 * y + 1 + dy] = 0\n",
    "                    stack.append((nx, ny))\n",
    "                    break\n",
    "            else:\n",
    "                stack.pop()\n",
    "\n",
    "        zero_indices = np.argwhere(maze_layout == 0)\n",
    "        zero_coords = [tuple(index) for index in zero_indices]\n",
    "\n",
    "        directions = [(0, 1), (1, 0), (0, -1), (-1, 0)]  # adds randomly crosses of free space.\n",
    "        for z in zero_coords:\n",
    "            if random.random() >= obs_prob:\n",
    "                for dx, dy in directions:\n",
    "                    nx, ny = z[0] + dx, z[1] + dy\n",
    "                    maze_layout[nx, ny] = 0\n",
    "\n",
    "        maze_layout[0, :] = 1\n",
    "        maze_layout[-1, :] = 1\n",
    "        maze_layout[:, 0] = 1\n",
    "        maze_layout[:, -1] = 1\n",
    "\n",
    "        # removes crosses (so agents wont be stuck).\n",
    "        for i in range(maze_layout.shape[0]):\n",
    "            for j in range(maze_layout.shape[1]):\n",
    "                walls = []\n",
    "                for d in directions:\n",
    "                    neighbor_i = i + d[0]\n",
    "                    neighbor_j = j + d[1]\n",
    "                    # Check if neighbor is in bounds\n",
    "                    if 0 <= neighbor_i < maze_layout.shape[0] and 0 <= neighbor_j < maze_layout.shape[1] and maze_layout[\n",
    "                        (neighbor_i, neighbor_j)]:\n",
    "                        walls.append((neighbor_i, neighbor_j))\n",
    "                if len(walls) >= len(directions):\n",
    "                    for coord in walls:\n",
    "                        maze_layout[coord] = 0\n",
    "\n",
    "        # re-adds the boundaries (after cross removed).\n",
    "        maze_layout[0, :] = 1\n",
    "        maze_layout[-1, :] = 1\n",
    "        maze_layout[:, 0] = 1\n",
    "        maze_layout[:, -1] = 1\n",
    "\n",
    "        return maze_layout"
   ],
   "outputs": [],
   "execution_count": 50
  },
  {
   "metadata": {
    "ExecuteTime": {
     "end_time": "2025-03-13T09:33:47.795153Z",
     "start_time": "2025-03-13T09:33:47.748391Z"
    }
   },
   "cell_type": "code",
   "source": [
    "# Or generate one random maze\n",
    "maze_layout = generate_maze(10, 10)\n",
    "start_position = (1, 1)\n",
    "# Create an instance of the maze and set the starting and ending positions\n",
    "maze = Maze(maze_layout,start_position)\n",
    "# Visualize the maze\n",
    "maze.draw_maze(start_position=start_position)"
   ],
   "id": "493abb8cf99d8a35",
   "outputs": [
    {
     "name": "stdout",
     "output_type": "stream",
     "text": [
      "Maximum cells to explore:  59\n"
     ]
    },
    {
     "data": {
      "text/plain": [
       "<Figure size 640x480 with 1 Axes>"
      ],
      "image/png": "[encoded data removed]"
     },
     "metadata": {},
     "output_type": "display_data"
    }
   ],
   "execution_count": 52
  },
  {
   "metadata": {
    "ExecuteTime": {
     "end_time": "2025-03-13T10:06:20.355133Z",
     "start_time": "2025-03-13T10:06:20.341970Z"
    }
   },
   "cell_type": "code",
   "source": [
    "# Actions the agent can take: Up, Down, Left, Right. Each action is represented as a tuple of two values: (row_change, column_change)\n",
    "actions = [(-1, 0), # Up: Moving one step up, reducing the row index by 1\n",
    "          (1, 0),   # Down: Moving on step down, increasing the row index by 1\n",
    "          (0, -1),  # Left: Moving one step to the left, reducing the column index by 1\n",
    "          (0, 1)]   # Right: Moving one step to the right, increasing the column index by 1\n",
    "\n",
    "class QLearningAgent:\n",
    "    def __init__(self, maze, learning_rate=0.1, discount_factor=0.8, exploration_start=1.0, exploration_end=0.01, num_episodes=100):\n",
    "        # Initialize the Q-learning agent with a Q-table containing all zeros\n",
    "        # where the rows represent states, columns represent actions, and the third dimension is for each action (Up, Down, Left, Right)\n",
    "        self.q_table = np.zeros((maze.maze_height, maze.maze_width, 4)) # 4 actions: Up, Down, Left, Right\n",
    "        self.learning_rate = learning_rate          # Learning rate controls how much the agent updates its Q-values after each action\n",
    "        self.discount_factor = discount_factor      # Discount factor determines the importance of future rewards in the agent's decisions\n",
    "        self.exploration_start = exploration_start  # Exploration rate determines the likelihood of the agent taking a random action\n",
    "        self.exploration_end = exploration_end\n",
    "        self.num_episodes = num_episodes\n",
    "\n",
    "    def get_exploration_rate(self, current_episode):\n",
    "        # Calculate the current exploration rate using the given formula\n",
    "        exploration_rate = self.exploration_start * (self.exploration_end / self.exploration_start) ** (current_episode / self.num_episodes)\n",
    "        return exploration_rate\n",
    "\n",
    "    def get_action(self, state, current_episode): # State is tuple representing where agent is in maze (x, y)\n",
    "        exploration_rate = self.get_exploration_rate(current_episode)\n",
    "        # Select an action for the given state either randomly (exploration) or using the Q-table (exploitation)\n",
    "        if np.random.rand() < exploration_rate:\n",
    "            return np.random.randint(4) # Choose a random action (index 0 to 3, representing Up, Down, Left, Right)\n",
    "        else:\n",
    "            return np.argmax(self.q_table[state]) # Choose the action with the highest Q-value for the given state\n",
    "\n",
    "    def update_q_table(self, state, action, next_state, reward):\n",
    "        # Find the best next action by selecting the action that maximizes the Q-value for the next state\n",
    "        best_next_action = np.argmax(self.q_table[next_state])\n",
    "\n",
    "        # Get the current Q-value for the current state and action\n",
    "        current_q_value = self.q_table[state][action]\n",
    "\n",
    "        # Q-value update using Q-learning formula\n",
    "        new_q_value = current_q_value + self.learning_rate * (reward + self.discount_factor * self.q_table[next_state][best_next_action] - current_q_value)\n",
    "\n",
    "        # Update the Q-table with the new Q-value for the current state and action\n",
    "        self.q_table[state][action] = new_q_value\n"
   ],
   "id": "880587b785d59cba",
   "outputs": [],
   "execution_count": 74
  },
  {
   "metadata": {
    "ExecuteTime": {
     "end_time": "2025-03-13T10:43:34.118608Z",
     "start_time": "2025-03-13T10:43:34.115873Z"
    }
   },
   "cell_type": "code",
   "source": [
    "goal_reward = 10000 # the goal is to explore the whole maze \n",
    "wall_penalty = -10\n",
    "step_penalty = -1"
   ],
   "id": "6fde75d625c4e5b3",
   "outputs": [],
   "execution_count": 116
  },
  {
   "metadata": {
    "ExecuteTime": {
     "end_time": "2025-03-13T10:15:45.968248Z",
     "start_time": "2025-03-13T10:15:45.958172Z"
    }
   },
   "cell_type": "code",
   "source": [
    "# This function simulates the agent's movements in the maze for a single episode.\n",
    "\n",
    "def finish_episode(agent, maze, current_episode, train=True, maximum_steps=1000):\n",
    "    # Initialize the agent's current state to the maze's start position\n",
    "    current_state = maze.start_position\n",
    "    is_done = False\n",
    "    episode_reward = 0\n",
    "    episode_step = 0\n",
    "    path = [current_state]\n",
    "    cells_explored = np.zeros((maze.maze_height, maze.maze_width))\n",
    "    not_all_cells_explored = False\n",
    "\n",
    "    # Continue until the episode is done\n",
    "    while not is_done:\n",
    "        # Get the agent's action for the current state using its Q-table\n",
    "        action = agent.get_action(current_state, current_episode)\n",
    "\n",
    "        # Compute the next state based on the chosen action\n",
    "        next_state = (current_state[0] + actions[action][0], current_state[1] + actions[action][1])\n",
    "\n",
    "        # Check if the next state is out of bounds or hitting a wall\n",
    "        if (next_state[0] < 0 or next_state[0] >= maze.maze_height or next_state[1] < 0 or next_state[1] >= maze.maze_width or maze.maze_layout[next_state] == 1):  # Check if it's a wall\n",
    "            reward = wall_penalty\n",
    "            next_state = current_state  # Stay in place\n",
    "\n",
    "        # Check if the agent explored all the cells:\n",
    "        elif np.sum(cells_explored) == maze.explorable_cells:\n",
    "            path.append(current_state)\n",
    "            reward = goal_reward\n",
    "            is_done = True\n",
    "        # The agent takes a step but hasn't explored all the cells yet\n",
    "        else:\n",
    "            if cells_explored[next_state] == 0:\n",
    "                cells_explored[next_state] = 1\n",
    "            path.append(current_state)\n",
    "            reward = step_penalty\n",
    "\n",
    "        # Update the cumulative reward and step count for the episode\n",
    "        episode_reward += reward\n",
    "        episode_step += 1\n",
    "        if episode_step >= maximum_steps:\n",
    "            not_all_cells_explored = True\n",
    "            break\n",
    "        # Update the agent's Q-table if training is enabled\n",
    "        if train:\n",
    "            agent.update_q_table(current_state, action, next_state, reward)\n",
    "\n",
    "        # Move to the next state for the next iteration\n",
    "        current_state = next_state\n",
    "    cells_explored = np.sum(cells_explored)\n",
    "    # Return the cumulative episode reward, total number of steps, and the agent's path during the simulation\n",
    "    return episode_reward, episode_step, path, cells_explored, not_all_cells_explored"
   ],
   "id": "9cec9891f34c29e5",
   "outputs": [],
   "execution_count": 91
  },
  {
   "metadata": {
    "ExecuteTime": {
     "end_time": "2025-03-13T10:41:21.716941Z",
     "start_time": "2025-03-13T10:41:20.252541Z"
    }
   },
   "cell_type": "code",
   "source": [
    "# This function evaluates an agent's performance in the maze. The function simulates the agent's movements in the maze,\n",
    "# updating its state, accumulating the rewards, and determining the end of the episode when the agent explores all the cells.\n",
    "# The agent's learned path is then printed along with the total number of steps taken and the total reward obtained during the\n",
    "# simulation. The function also visualizes the maze with the agent's path marked in blue for better visualization of the\n",
    "# agent's trajectory.\n",
    "\n",
    "def test_agent(agent, maze, num_episodes=1):\n",
    "    # Simulate the agent's behavior in the maze for the specified number of episodes\n",
    "    maximum_steps = maze.explorable_cells * 100 # Maximum steps allowed to explore the maze\n",
    "    episode_reward, episode_step, path, cells_explored, not_all_cells_explored = finish_episode(agent, maze, num_episodes, train=False, maximum_steps=maximum_steps)\n",
    "    \n",
    "    \n",
    "    # print(\"Learned Path:\")\n",
    "    # for row, col in path:\n",
    "    #     print(f\"({row}, {col})-> \", end='')\n",
    "        \n",
    "    if not_all_cells_explored:\n",
    "        print(\"Failed to explore maze in \", maximum_steps, \" steps.\")\n",
    "        print(\"Cells explored:\", cells_explored)\n",
    "        print(\"Number of steps:\", episode_step)\n",
    "        print(int(episode_step/cells_explored), \" Steps per Cell Explored\")\n",
    "        print(\"Total reward:\", episode_reward)\n",
    "    else:\n",
    "        # Print the learned path of the agent\n",
    "        print(\"Learned Path:\")\n",
    "        for row, col in path:\n",
    "            print(f\"({row}, {col})-> \", end='')\n",
    "        print(\"Maze fully explored!\")\n",
    "        print(\"Cells explored:\", cells_explored)\n",
    "        print(\"Number of steps:\", episode_step)\n",
    "        print(int(episode_step/cells_explored), \" Steps per Cell Explored\")\n",
    "        print(\"Total reward:\", episode_reward)\n",
    "        \n",
    "        # Clear the existing plot if any\n",
    "        if plt.gcf().get_axes():\n",
    "            plt.cla()\n",
    "    \n",
    "        # Visualize the maze\n",
    "        plt.imshow(maze.maze_layout, cmap=plt.cm.binary, interpolation='nearest')\n",
    "        plt.scatter(maze.start_position[0],maze.start_position[1], color='red', s=100, marker='o')\n",
    "        plt.title(\"Agent's Path in the Maze\")\n",
    "        \n",
    "        # Mark the agent's path with blue '#' symbols\n",
    "        for position in path:\n",
    "            if maze.maze_layout[position] == 1:\n",
    "                print(f\"Error! Path includes a wall at {position}\")\n",
    "            plt.text(position[1], position[0], \"#\", va='center', color='blue', fontsize=10) # Flip the row and column for plotting\n",
    "    \n",
    "        # Remove axis ticks and grid lines for a cleaner visualization\n",
    "        plt.xticks([]), plt.yticks([])\n",
    "        # plt.grid(color='black', linewidth=2)\n",
    "        plt.show()\n",
    "\n",
    "    return episode_step, episode_reward\n",
    "\n",
    "agent = QLearningAgent(maze)\n",
    "# Test the agent using the test_agent function\n",
    "test_agent(agent, maze)"
   ],
   "id": "a403bfde59c0b9a0",
   "outputs": [
    {
     "name": "stdout",
     "output_type": "stream",
     "text": [
      "Learned Path:\n",
      "(1, 1)-> (1, 1)-> (1, 2)-> (1, 1)-> (1, 2)-> (1, 3)-> (1, 2)-> (1, 3)-> (1, 4)-> (1, 5)-> (2, 5)-> (1, 5)-> (1, 4)-> (1, 3)-> (1, 2)-> (1, 1)-> (2, 1)-> (1, 1)-> (2, 1)-> (2, 2)-> (3, 2)-> (2, 2)-> (3, 2)-> (3, 1)-> (2, 1)-> (1, 1)-> (2, 1)-> (1, 1)-> (2, 1)-> (2, 2)-> (1, 2)-> (1, 1)-> (1, 2)-> (2, 2)-> (2, 1)-> (2, 2)-> (1, 2)-> (1, 1)-> (2, 1)-> (1, 1)-> (2, 1)-> (3, 1)-> (2, 1)-> (3, 1)-> (2, 1)-> (1, 1)-> (1, 2)-> (2, 2)-> (3, 2)-> (3, 3)-> (3, 2)-> (3, 3)-> (4, 3)-> (5, 3)-> (6, 3)-> (7, 3)-> (8, 3)-> (7, 3)-> (8, 3)-> (9, 3)-> (9, 4)-> (8, 4)-> (8, 3)-> (9, 3)-> (8, 3)-> (8, 4)-> (7, 4)-> (7, 3)-> (8, 3)-> (8, 4)-> (9, 4)-> (8, 4)-> (8, 3)-> (8, 4)-> (8, 3)-> (8, 4)-> (7, 4)-> (6, 4)-> (6, 3)-> (7, 3)-> (7, 2)-> (7, 3)-> (7, 2)-> (7, 3)-> (7, 2)-> (7, 1)-> (8, 1)-> (9, 1)-> (8, 1)-> (7, 1)-> (7, 2)-> (7, 1)-> (6, 1)-> (5, 1)-> (6, 1)-> (7, 1)-> (6, 1)-> (5, 1)-> (6, 1)-> (5, 1)-> (6, 1)-> (7, 1)-> (6, 1)-> (7, 1)-> (7, 2)-> (7, 3)-> (7, 2)-> (7, 3)-> (6, 3)-> (5, 3)-> (4, 3)-> (5, 3)-> (5, 4)-> (5, 3)-> (6, 3)-> (5, 3)-> (5, 4)-> (5, 3)-> (5, 4)-> (4, 4)-> (4, 3)-> (3, 3)-> (3, 2)-> (2, 2)-> (3, 2)-> (4, 2)-> (3, 2)-> (3, 1)-> (2, 1)-> (3, 1)-> (2, 1)-> (1, 1)-> (2, 1)-> (2, 2)-> (2, 1)-> (3, 1)-> (3, 2)-> (4, 2)-> (3, 2)-> (3, 1)-> (3, 2)-> (3, 3)-> (4, 3)-> (4, 4)-> (5, 4)-> (4, 4)-> (4, 3)-> (4, 4)-> (5, 4)-> (6, 4)-> (5, 4)-> (4, 4)-> (5, 4)-> (5, 5)-> (5, 4)-> (5, 5)-> (5, 4)-> (5, 5)-> (5, 4)-> (6, 4)-> (5, 4)-> (5, 5)-> (5, 6)-> (5, 5)-> (5, 6)-> (5, 5)-> (5, 6)-> (6, 6)-> (6, 7)-> (5, 7)-> (5, 6)-> (5, 5)-> (5, 6)-> (5, 5)-> (5, 6)-> (5, 7)-> (6, 7)-> (6, 8)-> (7, 8)-> (6, 8)-> (6, 7)-> (7, 7)-> (6, 7)-> (6, 6)-> (6, 7)-> (6, 8)-> (5, 8)-> (6, 8)-> (5, 8)-> (6, 8)-> (6, 7)-> (6, 8)-> (7, 8)-> (7, 9)-> (8, 9)-> (7, 9)-> (6, 9)-> (6, 8)-> (7, 8)-> (6, 8)-> (5, 8)-> (6, 8)-> (7, 8)-> (7, 7)-> (7, 8)-> (7, 7)-> (6, 7)-> (6, 8)-> (7, 8)-> (7, 7)-> (7, 8)-> (7, 9)-> (8, 9)-> (7, 9)-> (8, 9)-> (7, 9)-> (7, 8)-> (7, 9)-> (7, 8)-> (7, 7)-> (7, 8)-> (6, 8)-> (6, 7)-> (7, 7)-> (6, 7)-> (5, 7)-> (6, 7)-> (6, 8)-> (5, 8)-> (5, 7)-> (5, 8)-> (5, 7)-> (6, 7)-> (6, 8)-> (6, 7)-> (6, 6)-> (6, 7)-> (7, 7)-> (7, 8)-> (7, 9)-> (8, 9)-> (7, 9)-> (8, 9)-> (7, 9)-> (7, 8)-> (6, 8)-> (6, 9)-> (5, 9)-> (5, 8)-> (5, 9)-> (5, 8)-> (5, 9)-> (4, 9)-> (3, 9)-> (2, 9)-> (1, 9)-> (2, 9)-> (1, 9)-> (2, 9)-> (3, 9)-> (4, 9)-> (3, 9)-> (4, 9)-> (5, 9)-> (6, 9)-> (6, 8)-> (6, 7)-> (7, 7)-> (7, 8)-> (7, 7)-> (7, 8)-> (7, 7)-> (7, 8)-> (6, 8)-> (7, 8)-> (7, 7)-> (7, 8)-> (7, 7)-> (6, 7)-> (6, 6)-> (5, 6)-> (5, 5)-> (5, 4)-> (4, 4)-> (4, 3)-> (3, 3)-> (4, 3)-> (4, 4)-> (5, 4)-> (5, 3)-> (4, 3)-> (5, 3)-> (5, 4)-> (6, 4)-> (5, 4)-> (5, 3)-> (4, 3)-> (5, 3)-> (4, 3)-> (4, 4)-> (4, 3)-> (4, 4)-> (5, 4)-> (6, 4)-> (7, 4)-> (8, 4)-> (7, 4)-> (7, 5)-> (7, 4)-> (7, 3)-> (8, 3)-> (7, 3)-> (7, 2)-> (7, 1)-> (6, 1)-> (7, 1)-> (7, 2)-> (7, 1)-> (6, 1)-> (5, 1)-> (6, 1)-> (5, 1)-> (6, 1)-> (5, 1)-> (6, 1)-> (5, 1)-> (6, 1)-> (5, 1)-> (6, 1)-> (5, 1)-> (6, 1)-> (7, 1)-> (6, 1)-> (5, 1)-> (6, 1)-> (7, 1)-> (8, 1)-> (9, 1)-> (8, 1)-> (7, 1)-> (7, 2)-> (7, 1)-> (6, 1)-> (5, 1)-> (6, 1)-> (5, 1)-> (6, 1)-> (7, 1)-> (6, 1)-> (5, 1)-> (6, 1)-> (7, 1)-> (7, 2)-> (7, 1)-> (6, 1)-> (7, 1)-> (7, 2)-> (7, 3)-> (6, 3)-> (5, 3)-> (4, 3)-> (5, 3)-> (5, 4)-> (5, 3)-> (5, 4)-> (5, 3)-> (6, 3)-> (7, 3)-> (7, 2)-> (7, 1)-> (8, 1)-> (9, 1)-> (8, 1)-> (9, 1)-> (8, 1)-> (9, 1)-> (8, 1)-> (7, 1)-> (6, 1)-> (5, 1)-> (6, 1)-> (5, 1)-> (6, 1)-> (7, 1)-> (6, 1)-> (5, 1)-> (6, 1)-> (5, 1)-> (6, 1)-> (5, 1)-> (6, 1)-> (7, 1)-> (7, 2)-> (7, 1)-> (6, 1)-> (7, 1)-> (8, 1)-> (7, 1)-> (8, 1)-> (7, 1)-> (7, 2)-> (7, 1)-> (8, 1)-> (7, 1)-> (6, 1)-> (5, 1)-> (6, 1)-> (5, 1)-> (6, 1)-> (7, 1)-> (7, 2)-> (7, 3)-> (6, 3)-> (7, 3)-> (7, 2)-> (7, 1)-> (6, 1)-> (7, 1)-> (8, 1)-> (7, 1)-> (6, 1)-> (7, 1)-> (8, 1)-> (7, 1)-> (7, 2)-> (7, 1)-> (8, 1)-> (7, 1)-> (8, 1)-> (7, 1)-> (8, 1)-> (7, 1)-> (6, 1)-> (5, 1)-> (6, 1)-> (5, 1)-> (6, 1)-> (5, 1)-> (6, 1)-> (7, 1)-> (6, 1)-> (7, 1)-> (8, 1)-> (7, 1)-> (6, 1)-> (7, 1)-> (6, 1)-> (7, 1)-> (6, 1)-> (5, 1)-> (6, 1)-> (7, 1)-> (7, 2)-> (7, 3)-> (7, 2)-> (7, 1)-> (8, 1)-> (7, 1)-> (7, 2)-> (7, 3)-> (6, 3)-> (5, 3)-> (5, 4)-> (6, 4)-> (5, 4)-> (5, 3)-> (4, 3)-> (3, 3)-> (3, 2)-> (4, 2)-> (3, 2)-> (3, 1)-> (3, 2)-> (3, 3)-> (4, 3)-> (4, 2)-> (3, 2)-> (3, 3)-> (4, 3)-> (5, 3)-> (5, 4)-> (5, 3)-> (5, 4)-> (4, 4)-> (4, 3)-> (4, 2)-> (3, 2)-> (4, 2)-> (3, 2)-> (2, 2)-> (2, 1)-> (1, 1)-> (1, 2)-> (1, 3)-> (1, 2)-> (2, 2)-> (1, 2)-> (1, 1)-> (1, 2)-> (2, 2)-> (3, 2)-> (3, 3)-> (3, 2)-> (3, 1)-> (3, 2)-> (3, 3)-> (4, 3)-> (4, 4)-> (5, 4)-> (5, 5)-> (5, 4)-> (6, 4)-> (5, 4)-> (5, 3)-> (4, 3)-> (5, 3)-> (5, 4)-> (5, 3)-> (5, 4)-> (5, 5)-> (5, 6)-> (6, 6)-> (5, 6)-> (5, 7)-> (6, 7)-> (7, 7)-> (6, 7)-> (5, 7)-> (5, 8)-> (5, 7)-> (5, 8)-> (6, 8)-> (6, 9)-> (5, 9)-> (5, 8)-> (5, 7)-> (5, 6)-> (5, 7)-> (6, 7)-> (5, 7)-> (5, 8)-> (6, 8)-> (5, 8)-> (5, 7)-> (5, 8)-> (6, 8)-> (6, 7)-> (7, 7)-> (6, 7)-> (6, 6)-> (6, 7)-> (6, 6)-> (5, 6)-> (6, 6)-> (6, 7)-> (7, 7)-> (6, 7)-> (5, 7)-> (5, 8)-> (5, 7)-> (5, 8)-> (5, 9)-> (4, 9)-> (5, 9)-> (5, 8)-> (5, 7)-> (6, 7)-> (5, 7)-> (5, 6)-> (5, 5)-> (5, 4)-> (6, 4)-> (5, 4)-> (5, 5)-> (5, 6)-> (5, 5)-> (5, 6)-> (5, 5)-> (5, 6)-> (6, 6)-> (5, 6)-> (5, 7)-> (5, 6)-> (5, 7)-> (5, 6)-> (5, 7)-> (5, 6)-> (6, 6)-> (5, 6)-> (5, 7)-> (6, 7)-> (6, 8)-> (5, 8)-> (5, 7)-> (5, 6)-> (5, 7)-> (5, 8)-> (5, 9)-> (6, 9)-> (5, 9)-> (4, 9)-> (3, 9)-> (2, 9)-> (1, 9)-> (1, 8)-> (1, 9)-> (2, 9)-> (1, 9)-> (1, 8)-> (1, 9)-> (2, 9)-> (3, 9)-> (4, 9)-> (3, 9)-> (4, 9)-> (3, 9)-> (2, 9)-> (3, 9)-> (4, 9)-> (3, 9)-> (2, 9)-> (3, 9)-> (2, 9)-> (3, 9)-> (4, 9)-> (5, 9)-> (4, 9)-> (5, 9)-> (5, 8)-> (6, 8)-> (6, 7)-> (7, 7)-> (7, 8)-> (7, 9)-> (6, 9)-> (6, 8)-> (6, 9)-> (7, 9)-> (8, 9)-> (7, 9)-> (7, 8)-> (7, 7)-> (6, 7)-> (5, 7)-> (6, 7)-> (6, 6)-> (6, 7)-> (6, 6)-> (5, 6)-> (5, 7)-> (5, 8)-> (6, 8)-> (5, 8)-> (5, 7)-> (5, 8)-> (5, 9)-> (4, 9)-> (3, 9)-> (2, 9)-> (3, 9)-> (4, 9)-> (3, 9)-> (2, 9)-> (1, 9)-> (2, 9)-> (1, 9)-> (2, 9)-> (1, 9)-> (1, 8)-> (1, 7)-> (1, 8)-> (1, 7)-> (1, 8)-> (1, 9)-> (2, 9)-> (3, 9)-> (4, 9)-> (3, 9)-> (4, 9)-> (3, 9)-> (4, 9)-> (3, 9)-> (2, 9)-> (1, 9)-> (2, 9)-> (1, 9)-> (1, 8)-> (1, 7)-> (2, 7)-> (3, 7)-> (2, 7)-> (3, 7)-> (2, 7)-> (1, 7)-> (2, 7)-> (1, 7)-> (2, 7)-> (3, 7)-> (2, 7)-> (1, 7)-> (2, 7)-> (3, 7)-> (2, 7)-> (3, 7)-> (2, 7)-> (3, 7)-> (2, 7)-> (3, 7)-> (3, 6)-> (3, 5)-> (3, 6)-> (3, 7)-> (3, 6)-> (3, 5)-> (3, 6)-> (3, 5)-> (2, 5)-> (1, 5)-> (2, 5)-> (1, 5)-> (2, 5)-> (1, 5)-> (1, 4)-> (1, 3)-> (1, 2)-> (2, 2)-> (2, 1)-> (1, 1)-> (1, 2)-> (1, 3)-> (1, 4)-> (1, 5)-> (1, 4)-> (1, 3)-> (1, 4)-> (1, 3)-> (1, 2)-> (1, 1)-> (1, 2)-> (1, 1)-> (2, 1)-> (1, 1)-> (2, 1)-> (1, 1)-> (2, 1)-> (3, 1)-> (2, 1)-> (3, 1)-> (3, 2)-> (3, 1)-> (3, 2)-> (3, 3)-> (3, 2)-> (4, 2)-> (3, 2)-> (4, 2)-> (3, 2)-> (4, 2)-> (4, 3)-> (3, 3)-> (4, 3)-> (3, 3)-> (3, 2)-> (4, 2)-> (4, 3)-> (4, 2)-> (4, 3)-> (4, 2)-> (3, 2)-> (4, 2)-> (4, 3)-> (4, 4)-> (5, 4)-> (6, 4)-> (5, 4)-> (5, 5)-> (5, 6)-> (5, 7)-> (5, 6)-> (5, 5)-> (5, 4)-> (5, 3)-> (4, 3)-> (3, 3)-> (4, 3)-> (5, 3)-> (6, 3)-> (6, 4)-> (6, 3)-> (5, 3)-> (5, 4)-> (4, 4)-> (4, 3)-> (3, 3)-> (3, 2)-> (3, 3)-> (3, 2)-> (4, 2)-> (4, 3)-> (4, 2)-> (3, 2)-> (2, 2)-> (3, 2)-> (3, 3)-> (4, 3)-> (4, 4)-> (4, 3)-> (4, 4)-> (4, 3)-> (3, 3)-> (3, 2)-> (3, 1)-> (2, 1)-> (1, 1)-> (1, 2)-> (1, 3)-> (1, 2)-> (2, 2)-> (3, 2)-> (3, 3)-> (4, 3)-> (5, 3)-> (6, 3)-> (5, 3)-> (6, 3)-> (6, 4)-> (6, 3)-> (6, 4)-> (7, 4)-> (6, 4)-> (6, 3)-> (7, 3)-> (6, 3)-> (7, 3)-> (7, 2)-> (7, 3)-> (8, 3)-> (9, 3)-> (9, 4)-> (8, 4)-> (9, 4)-> (8, 4)-> (9, 4)-> (9, 5)-> (9, 4)-> (8, 4)-> (7, 4)-> (7, 5)-> (7, 4)-> (7, 3)-> (6, 3)-> (6, 4)-> (5, 4)-> (4, 4)-> (5, 4)-> (5, 3)-> (6, 3)-> (7, 3)-> (7, 2)-> (7, 1)-> (7, 2)-> (7, 3)-> (6, 3)-> (7, 3)-> (7, 2)-> (7, 1)-> (6, 1)-> (7, 1)-> (6, 1)-> (7, 1)-> (7, 2)-> (7, 3)-> (7, 2)-> (7, 3)-> (6, 3)-> (5, 3)-> (5, 4)-> (6, 4)-> (7, 4)-> (6, 4)-> (6, 3)-> (5, 3)-> (5, 4)-> (4, 4)-> (5, 4)-> (6, 4)-> (7, 4)-> (7, 5)-> (7, 4)-> (7, 3)-> (7, 4)-> (6, 4)-> (7, 4)-> (7, 3)-> (8, 3)-> (7, 3)-> (7, 2)-> (7, 1)-> (8, 1)-> (7, 1)-> (6, 1)-> (7, 1)-> (8, 1)-> (7, 1)-> (8, 1)-> (7, 1)-> (6, 1)-> (5, 1)-> (6, 1)-> (7, 1)-> (8, 1)-> (7, 1)-> (7, 2)-> (7, 1)-> (7, 2)-> (7, 3)-> (7, 4)-> (7, 3)-> (8, 3)-> (9, 3)-> (9, 4)-> (8, 4)-> (7, 4)-> (8, 4)-> (7, 4)-> (7, 3)-> (8, 3)-> (9, 3)-> (9, 4)-> (9, 3)-> (9, 4)-> (9, 3)-> (8, 3)-> (8, 4)-> (7, 4)-> (7, 3)-> (7, 2)-> (7, 3)-> (6, 3)-> (6, 4)-> (6, 3)-> (6, 4)-> (7, 4)-> (7, 3)-> (7, 4)-> (6, 4)-> (7, 4)-> (8, 4)-> (7, 4)-> (6, 4)-> (7, 4)-> (7, 3)-> (7, 4)-> (6, 4)-> (5, 4)-> (5, 5)-> (5, 4)-> (5, 5)-> (5, 6)-> (5, 7)-> (5, 6)-> (6, 6)-> (5, 6)-> (6, 6)-> (6, 7)-> (5, 7)-> (5, 6)-> (5, 7)-> (5, 8)-> (5, 9)-> (5, 8)-> (5, 7)-> (6, 7)-> (5, 7)-> (5, 6)-> (6, 6)-> (5, 6)-> (5, 5)-> (5, 4)-> (5, 3)-> (4, 3)-> (4, 2)-> (4, 3)-> (4, 4)-> (5, 4)-> (5, 3)-> (5, 4)-> (5, 3)-> (6, 3)-> (7, 3)-> (7, 4)-> (7, 3)-> (7, 4)-> (6, 4)-> (6, 3)-> (7, 3)-> (8, 3)-> (7, 3)-> (8, 3)-> (8, 4)-> (7, 4)-> (6, 4)-> (7, 4)-> (7, 3)-> (7, 2)-> (7, 3)-> (8, 3)-> (7, 3)-> (7, 4)-> (6, 4)-> (6, 3)-> (5, 3)-> (5, 4)-> (5, 5)-> (5, 6)-> (5, 5)-> (5, 6)-> (6, 6)-> (6, 7)-> (6, 8)-> (7, 8)-> (7, 7)-> (7, 8)-> (7, 7)-> (6, 7)-> (5, 7)-> (5, 6)-> (6, 6)-> (5, 6)-> (5, 7)-> (5, 6)-> (5, 5)-> (5, 4)-> (6, 4)-> (6, 3)-> (5, 3)-> (4, 3)-> (4, 2)-> (3, 2)-> (3, 1)-> (2, 1)-> (2, 2)-> (2, 1)-> (2, 2)-> (3, 2)-> (2, 2)-> (1, 2)-> (1, 1)-> (2, 1)-> (3, 1)-> (3, 2)-> (4, 2)-> (4, 3)-> (3, 3)-> (3, 2)-> (3, 1)-> (2, 1)-> (2, 2)-> (3, 2)-> (3, 3)-> (4, 3)-> (4, 2)-> (3, 2)-> (3, 3)-> (4, 3)-> (4, 4)-> (5, 4)-> (4, 4)-> (5, 4)-> (5, 3)-> (5, 4)-> (5, 5)-> (5, 4)-> (4, 4)-> (5, 4)-> (4, 4)-> (5, 4)-> (5, 3)-> (4, 3)-> (3, 3)-> (4, 3)-> (4, 2)-> (3, 2)-> (3, 3)-> (4, 3)-> (5, 3)-> (5, 4)-> (6, 4)-> (7, 4)-> (7, 5)-> (7, 4)-> (6, 4)-> (7, 4)-> (8, 4)-> (7, 4)-> (6, 4)-> (5, 4)-> (5, 5)-> (5, 4)-> (5, 3)-> (6, 3)-> (7, 3)-> (7, 4)-> (7, 5)-> (7, 4)-> (6, 4)-> (7, 4)-> (7, 3)-> (6, 3)-> (5, 3)-> (6, 3)-> (7, 3)-> (8, 3)-> (8, 4)-> (7, 4)-> (6, 4)-> (5, 4)-> (5, 5)-> (5, 6)-> (6, 6)-> (5, 6)-> (6, 6)-> (6, 7)-> (6, 6)-> (6, 7)-> (5, 7)-> (5, 8)-> (5, 9)-> (6, 9)-> (6, 8)-> (7, 8)-> (6, 8)-> (5, 8)-> (5, 9)-> (6, 9)-> (6, 8)-> (5, 8)-> (6, 8)-> (7, 8)-> (7, 7)-> (7, 8)-> (6, 8)-> (7, 8)-> (6, 8)-> (7, 8)-> (7, 9)-> (6, 9)-> (7, 9)-> (7, 8)-> (6, 8)-> (6, 9)-> (6, 8)-> (7, 8)-> (6, 8)-> (6, 7)-> (5, 7)-> (5, 6)-> (6, 6)-> (5, 6)-> (5, 5)-> (5, 6)-> (5, 5)-> (5, 6)-> (5, 7)-> (6, 7)-> (6, 6)-> (6, 7)-> (6, 8)-> (6, 7)-> (6, 6)-> (6, 7)-> (7, 7)-> (6, 7)-> (5, 7)-> (6, 7)-> (5, 7)-> (5, 6)-> (6, 6)-> (5, 6)-> (6, 6)-> (6, 7)-> (7, 7)-> (6, 7)-> (6, 8)-> (6, 9)-> (5, 9)-> (4, 9)-> (5, 9)-> (6, 9)-> (7, 9)-> (6, 9)-> (7, 9)-> (8, 9)-> (7, 9)-> (7, 8)-> (6, 8)-> (6, 9)-> (5, 9)-> (6, 9)-> (5, 9)-> (6, 9)-> (5, 9)-> (6, 9)-> (7, 9)-> (6, 9)-> (5, 9)-> (4, 9)-> (5, 9)-> (4, 9)-> (3, 9)-> (2, 9)-> (1, 9)-> (2, 9)-> (3, 9)-> (4, 9)-> (3, 9)-> (2, 9)-> (1, 9)-> (1, 8)-> (1, 9)-> (1, 8)-> (1, 9)-> (2, 9)-> (3, 9)-> (4, 9)-> (3, 9)-> (4, 9)-> (3, 9)-> (2, 9)-> (3, 9)-> (4, 9)-> (3, 9)-> (2, 9)-> (3, 9)-> (2, 9)-> (3, 9)-> (4, 9)-> (5, 9)-> (6, 9)-> (6, 8)-> (6, 7)-> (6, 6)-> (5, 6)-> (6, 6)-> (5, 6)-> (6, 6)-> (5, 6)-> (5, 7)-> (5, 8)-> (5, 9)-> (4, 9)-> (3, 9)-> (2, 9)-> (1, 9)-> (2, 9)-> (1, 9)-> (1, 8)-> (1, 7)-> (1, 8)-> (1, 7)-> (2, 7)-> (1, 7)-> (2, 7)-> (3, 7)-> (3, 6)-> (3, 5)-> (2, 5)-> (3, 5)-> (3, 6)-> (3, 5)-> (2, 5)-> (1, 5)-> (1, 4)-> (1, 5)-> (2, 5)-> (1, 5)-> (1, 4)-> (1, 3)-> (1, 2)-> (1, 1)-> (2, 1)-> (3, 1)-> (3, 2)-> (3, 1)-> (2, 1)-> (1, 1)-> (1, 2)-> (1, 3)-> (1, 2)-> (1, 1)-> (1, 2)-> (2, 2)-> (1, 2)-> (2, 2)-> (1, 2)-> (1, 1)-> (1, 2)-> (1, 3)-> (1, 4)-> (1, 3)-> (1, 2)-> (2, 2)-> (1, 2)-> (1, 1)-> (2, 1)-> (3, 1)-> (2, 1)-> (2, 2)-> (3, 2)-> (4, 2)-> (4, 3)-> (3, 3)-> (3, 2)-> (2, 2)-> (2, 1)-> (1, 1)-> (1, 2)-> (1, 1)-> (1, 2)-> (1, 3)-> (1, 4)-> (1, 3)-> (1, 2)-> (1, 1)-> (1, 2)-> (2, 2)-> (2, 1)-> (2, 2)-> (1, 2)-> (1, 3)-> (1, 4)-> (1, 5)-> (1, 4)-> (1, 3)-> (1, 2)-> (1, 3)-> (1, 2)-> (1, 1)-> (1, 2)-> (1, 3)-> (1, 4)-> (1, 5)-> (2, 5)-> (1, 5)-> (1, 4)-> (1, 5)-> (1, 4)-> (1, 3)-> (1, 2)-> (1, 1)-> (2, 1)-> (3, 1)-> (2, 1)-> (3, 1)-> (3, 2)-> (2, 2)-> (3, 2)-> (4, 2)-> (3, 2)-> (2, 2)-> (3, 2)-> (2, 2)-> (1, 2)-> (1, 1)-> (2, 1)-> (2, 2)-> (2, 1)-> (1, 1)-> (2, 1)-> (3, 1)-> (2, 1)-> (3, 1)-> (2, 1)-> (3, 1)-> (2, 1)-> (2, 2)-> (2, 1)-> (2, 2)-> (3, 2)-> (3, 1)-> (2, 1)-> (2, 2)-> (3, 2)-> (2, 2)-> (3, 2)-> (3, 3)-> (3, 2)-> (4, 2)-> (3, 2)-> (2, 2)-> (3, 2)-> (3, 3)-> (4, 3)-> (5, 3)-> (4, 3)-> (5, 3)-> (6, 3)-> (6, 4)-> (6, 3)-> (7, 3)-> (7, 4)-> (7, 5)-> (7, 4)-> (7, 3)-> (7, 4)-> (6, 4)-> (5, 4)-> (5, 5)-> (5, 6)-> (6, 6)-> (5, 6)-> (5, 7)-> (5, 8)-> (5, 7)-> (6, 7)-> (6, 6)-> (6, 7)-> (6, 6)-> (6, 7)-> (5, 7)-> (6, 7)-> (5, 7)-> (5, 6)-> (5, 7)-> (5, 8)-> (6, 8)-> (6, 7)-> (6, 6)-> (5, 6)-> (5, 5)-> (5, 6)-> (5, 5)-> (5, 4)-> (4, 4)-> (5, 4)-> (4, 4)-> (4, 3)-> (3, 3)-> (3, 2)-> (4, 2)-> (3, 2)-> (4, 2)-> (3, 2)-> (3, 3)-> (4, 3)-> (3, 3)-> (3, 2)-> (2, 2)-> (2, 1)-> (1, 1)-> (2, 1)-> (2, 2)-> (1, 2)-> (1, 3)-> (1, 2)-> (1, 3)-> (1, 4)-> (1, 5)-> (2, 5)-> (1, 5)-> (1, 4)-> (1, 5)-> (1, 4)-> (1, 3)-> (1, 4)-> (1, 5)-> (1, 4)-> (1, 3)-> (1, 4)-> (1, 5)-> (1, 4)-> (1, 3)-> (1, 4)-> (1, 5)-> (1, 4)-> (1, 5)-> (2, 5)-> (3, 5)-> (2, 5)-> (1, 5)-> (1, 4)-> (1, 5)-> (1, 4)-> (1, 3)-> (1, 2)-> (2, 2)-> (1, 2)-> (2, 2)-> (1, 2)-> (2, 2)-> (2, 1)-> (3, 1)-> (3, 2)-> (3, 1)-> (2, 1)-> (1, 1)-> (2, 1)-> (1, 1)-> (2, 1)-> (2, 2)-> (2, 1)-> (1, 1)-> (1, 2)-> (1, 3)-> (1, 2)-> (2, 2)-> (3, 2)-> (4, 2)-> (3, 2)-> (3, 1)-> (3, 2)-> (3, 3)-> (4, 3)-> (3, 3)-> (3, 2)-> (3, 1)-> (3, 2)-> (3, 1)-> (2, 1)-> (1, 1)-> (2, 1)-> (1, 1)-> (1, 2)-> (2, 2)-> (3, 2)-> (4, 2)-> (4, 3)-> (4, 4)-> (5, 4)-> (5, 5)-> (5, 6)-> (5, 5)-> (5, 4)-> (6, 4)-> (6, 3)-> (5, 3)-> (5, 4)-> (5, 3)-> (4, 3)-> (4, 4)-> (4, 3)-> (3, 3)-> (3, 2)-> (2, 2)-> (1, 2)-> (2, 2)-> (3, 2)-> (2, 2)-> (1, 2)-> (1, 3)-> (1, 4)-> (1, 3)-> (1, 4)-> (1, 3)-> (1, 2)-> (2, 2)-> (2, 1)-> (1, 1)-> (2, 1)-> (1, 1)-> (1, 2)-> (1, 3)-> (1, 2)-> (1, 1)-> (1, 2)-> (1, 3)-> (1, 2)-> (2, 2)-> (2, 1)-> (1, 1)-> (2, 1)-> (1, 1)-> (1, 2)-> (2, 2)-> (2, 1)-> (3, 1)-> (3, 2)-> (3, 1)-> (3, 2)-> (3, 3)-> (4, 3)-> (3, 3)-> (4, 3)-> (5, 3)-> (4, 3)-> (3, 3)-> (3, 2)-> (2, 2)-> (3, 2)-> (3, 3)-> (3, 2)-> (3, 3)-> (3, 2)-> (4, 2)-> (3, 2)-> (4, 2)-> (3, 2)-> (2, 2)-> (3, 2)-> (3, 1)-> (3, 2)-> (3, 3)-> (3, 2)-> (4, 2)-> (3, 2)-> (2, 2)-> (1, 2)-> (1, 3)-> (1, 2)-> (2, 2)-> (1, 2)-> (2, 2)-> (3, 2)-> (2, 2)-> (2, 1)-> (1, 1)-> (2, 1)-> (1, 1)-> (2, 1)-> (2, 2)-> (1, 2)-> (2, 2)-> (1, 2)-> (1, 3)-> (1, 4)-> (1, 5)-> (1, 4)-> (1, 3)-> (1, 2)-> (2, 2)-> (1, 2)-> (1, 1)-> (2, 1)-> (1, 1)-> (2, 1)-> (1, 1)-> (2, 1)-> (2, 2)-> (2, 1)-> (3, 1)-> (2, 1)-> (1, 1)-> (1, 2)-> (2, 2)-> (1, 2)-> (1, 3)-> (1, 4)-> (1, 3)-> (1, 4)-> (1, 3)-> (1, 2)-> (1, 1)-> (1, 2)-> (1, 3)-> (1, 2)-> (1, 1)-> (2, 1)-> (3, 1)-> (2, 1)-> (1, 1)-> (2, 1)-> (1, 1)-> (2, 1)-> (2, 2)-> (1, 2)-> (2, 2)-> (1, 2)-> (1, 1)-> (2, 1)-> (3, 1)-> (3, 2)-> (3, 3)-> (3, 2)-> (2, 2)-> (1, 2)-> (2, 2)-> (2, 1)-> (2, 2)-> (3, 2)-> (3, 1)-> (3, 2)-> (3, 1)-> (3, 2)-> (4, 2)-> (4, 3)-> (3, 3)-> (4, 3)-> (4, 4)-> (5, 4)-> (6, 4)-> (7, 4)-> (7, 3)-> (7, 2)-> (7, 3)-> (7, 4)-> (6, 4)-> (6, 3)-> (5, 3)-> (4, 3)-> (4, 4)-> (5, 4)-> (5, 5)-> (5, 6)-> (6, 6)-> (5, 6)-> (5, 5)-> (5, 4)-> (4, 4)-> (5, 4)-> (6, 4)-> (5, 4)-> (4, 4)-> (4, 3)-> (4, 2)-> (3, 2)-> (4, 2)-> (4, 3)-> (4, 2)-> (4, 3)-> (4, 2)-> (3, 2)-> (4, 2)-> (4, 3)-> (3, 3)-> (3, 2)-> (3, 1)-> (2, 1)-> (1, 1)-> (1, 2)-> (2, 2)-> (2, 1)-> (3, 1)-> (2, 1)-> (2, 2)-> (1, 2)-> (2, 2)-> (2, 1)-> (3, 1)-> (2, 1)-> (2, 2)-> (2, 1)-> (2, 2)-> (3, 2)-> (4, 2)-> (4, 3)-> (4, 2)-> (4, 3)-> (4, 4)-> (5, 4)-> (5, 3)-> (6, 3)-> (6, 4)-> (6, 3)-> (6, 4)-> (6, 3)-> (5, 3)-> (5, 4)-> (5, 5)-> (5, 6)-> (5, 5)-> (5, 4)-> (5, 5)-> (5, 6)-> (6, 6)-> (5, 6)-> (5, 7)-> (5, 6)-> (5, 7)-> (5, 6)-> (5, 5)-> (5, 6)-> (5, 7)-> (5, 6)-> (6, 6)-> (5, 6)-> (5, 5)-> (5, 6)-> (6, 6)-> (6, 7)-> (6, 6)-> (6, 7)-> (5, 7)-> (6, 7)-> (5, 7)-> (6, 7)-> (5, 7)-> (5, 6)-> (5, 5)-> (5, 6)-> (5, 7)-> (6, 7)-> (7, 7)-> (6, 7)-> (7, 7)-> (7, 8)-> (7, 9)-> (8, 9)-> (9, 9)-> (9, 8)-> (9, 7)-> (9, 6)-> Maze fully explored!\n",
      "Cells explored: 59.0\n",
      "Number of steps: 2833\n",
      "48  Steps per Cell Explored\n",
      "Total reward: -12029\n"
     ]
    },
    {
     "data": {
      "text/plain": [
       "<Figure size 640x480 with 1 Axes>"
      ],
      "image/png": "[encoded data removed]"
     },
     "metadata": {},
     "output_type": "display_data"
    },
    {
     "data": {
      "text/plain": [
       "(2833, -12029)"
      ]
     },
     "execution_count": 114,
     "metadata": {},
     "output_type": "execute_result"
    }
   ],
   "execution_count": 114
  },
  {
   "metadata": {
    "ExecuteTime": {
     "end_time": "2025-03-13T10:22:29.720431Z",
     "start_time": "2025-03-13T10:22:29.708113Z"
    }
   },
   "cell_type": "code",
   "source": [
    "def train_agent(agent, maze, num_episodes=100):\n",
    "    # Lists to store the data for plotting\n",
    "    total_rewards = []\n",
    "    total_steps = []\n",
    "    total_cells_explored = []\n",
    "\n",
    "    # Loop over the specified number of episodes\n",
    "    for episode in range(num_episodes):\n",
    "        episode_reward, episode_step, path, episode_cells_explored, not_all_cells_explored = finish_episode(agent, maze, episode, train=True)\n",
    "\n",
    "        # Store the episode's cumulative reward and the number of steps taken in their respective lists\n",
    "        total_rewards.append(episode_reward)\n",
    "        total_steps.append(episode_step)\n",
    "        total_cells_explored.append(episode_cells_explored)\n",
    "    # Plotting the data after training is completed\n",
    "    plt.figure(figsize=(10, 5))\n",
    "\n",
    "    plt.subplot(1, 2, 1)\n",
    "    plt.plot(total_rewards)\n",
    "    plt.xlabel('Episode')\n",
    "    plt.ylabel('Cumulative Reward')\n",
    "    plt.title('Reward per Episode')\n",
    "\n",
    "    average_reward = sum(total_rewards) / len(total_rewards)\n",
    "    print(f\"The average reward is: {average_reward}\")\n",
    "\n",
    "    plt.subplot(1, 2, 2)\n",
    "    plt.plot(total_cells_explored)\n",
    "    plt.xlabel('Episode')\n",
    "    plt.ylabel('Cells Explored')\n",
    "    plt.ylim(0, 100)\n",
    "    plt.title('Cells Explored per Episode')\n",
    "\n",
    "    average_cells_explored = sum(total_cells_explored) / len(total_cells_explored)\n",
    "    print(f\"The average cells explored are: {average_cells_explored}\")\n",
    "\n",
    "    plt.tight_layout()\n",
    "    plt.show()\n"
   ],
   "id": "766a3d5264f15a24",
   "outputs": [],
   "execution_count": 95
  },
  {
   "metadata": {
    "ExecuteTime": {
     "end_time": "2025-03-13T12:56:18.909431Z",
     "start_time": "2025-03-13T12:56:18.435263Z"
    }
   },
   "cell_type": "code",
   "source": [
    "# Training the agent\n",
    "train_agent(agent, maze, num_episodes=10000)"
   ],
   "id": "c50ef128339596fc",
   "outputs": [
    {
     "ename": "NameError",
     "evalue": "name 'train_agent' is not defined",
     "output_type": "error",
     "traceback": [
      "\u001B[0;31m---------------------------------------------------------------------------\u001B[0m",
      "\u001B[0;31mNameError\u001B[0m                                 Traceback (most recent call last)",
      "Cell \u001B[0;32mIn[1], line 2\u001B[0m\n\u001B[1;32m      1\u001B[0m \u001B[38;5;66;03m# Training the agent\u001B[39;00m\n\u001B[0;32m----> 2\u001B[0m train_agent(agent, maze, num_episodes\u001B[38;5;241m=\u001B[39m\u001B[38;5;241m10000\u001B[39m)\n",
      "\u001B[0;31mNameError\u001B[0m: name 'train_agent' is not defined"
     ]
    }
   ],
   "execution_count": 1
  },
  {
   "metadata": {
    "ExecuteTime": {
     "end_time": "2025-03-13T10:58:47.253415Z",
     "start_time": "2025-03-13T10:58:46.360780Z"
    }
   },
   "cell_type": "code",
   "source": [
    "# Testing the agent after training\n",
    "test_agent(agent, maze, num_episodes=1)"
   ],
   "id": "5c0b3051057eb688",
   "outputs": [
    {
     "name": "stdout",
     "output_type": "stream",
     "text": [
      "Learned Path:\n",
      "(1, 1)-> (1, 1)-> (1, 2)-> (1, 3)-> (1, 2)-> (1, 3)-> (1, 2)-> (1, 3)-> (1, 2)-> (1, 3)-> (1, 4)-> (1, 5)-> (1, 4)-> (1, 5)-> (1, 4)-> (1, 3)-> (1, 4)-> (1, 5)-> (1, 4)-> (1, 3)-> (1, 2)-> (2, 2)-> (2, 1)-> (1, 1)-> (2, 1)-> (2, 2)-> (1, 2)-> (1, 3)-> (1, 2)-> (1, 3)-> (1, 4)-> (1, 5)-> (1, 4)-> (1, 3)-> (1, 2)-> (2, 2)-> (3, 2)-> (2, 2)-> (1, 2)-> (1, 3)-> (1, 2)-> (1, 1)-> (1, 2)-> (1, 3)-> (1, 4)-> (1, 5)-> (2, 5)-> (3, 5)-> (3, 6)-> (3, 5)-> (3, 6)-> (3, 5)-> (2, 5)-> (1, 5)-> (2, 5)-> (1, 5)-> (1, 4)-> (1, 5)-> (1, 4)-> (1, 5)-> (1, 4)-> (1, 3)-> (1, 2)-> (1, 1)-> (1, 2)-> (2, 2)-> (1, 2)-> (1, 1)-> (2, 1)-> (1, 1)-> (2, 1)-> (3, 1)-> (3, 2)-> (3, 3)-> (4, 3)-> (5, 3)-> (6, 3)-> (7, 3)-> (7, 2)-> (7, 1)-> (7, 2)-> (7, 1)-> (8, 1)-> (9, 1)-> (8, 1)-> (7, 1)-> (7, 2)-> (7, 3)-> (6, 3)-> (6, 4)-> (5, 4)-> (5, 3)-> (4, 3)-> (3, 3)-> (3, 2)-> (3, 1)-> (2, 1)-> (2, 2)-> (1, 2)-> (1, 1)-> (2, 1)-> (2, 2)-> (1, 2)-> (1, 3)-> (1, 2)-> (1, 3)-> (1, 2)-> (2, 2)-> (3, 2)-> (3, 1)-> (2, 1)-> (2, 2)-> (2, 1)-> (1, 1)-> (1, 2)-> (1, 1)-> (2, 1)-> (2, 2)-> (1, 2)-> (2, 2)-> (2, 1)-> (3, 1)-> (2, 1)-> (2, 2)-> (1, 2)-> (2, 2)-> (1, 2)-> (2, 2)-> (2, 1)-> (3, 1)-> (3, 2)-> (3, 3)-> (3, 2)-> (4, 2)-> (4, 3)-> (4, 4)-> (4, 3)-> (4, 2)-> (3, 2)-> (2, 2)-> (1, 2)-> (2, 2)-> (3, 2)-> (3, 1)-> (2, 1)-> (2, 2)-> (1, 2)-> (1, 3)-> (1, 2)-> (1, 3)-> (1, 4)-> (1, 5)-> (1, 4)-> (1, 5)-> (1, 4)-> (1, 5)-> (2, 5)-> (1, 5)-> (1, 4)-> (1, 3)-> (1, 4)-> (1, 3)-> (1, 2)-> (1, 1)-> (2, 1)-> (1, 1)-> (2, 1)-> (2, 2)-> (3, 2)-> (3, 3)-> (3, 2)-> (3, 1)-> (2, 1)-> (2, 2)-> (3, 2)-> (3, 1)-> (2, 1)-> (2, 2)-> (3, 2)-> (4, 2)-> (4, 3)-> (4, 4)-> (4, 3)-> (5, 3)-> (4, 3)-> (5, 3)-> (6, 3)-> (5, 3)-> (4, 3)-> (3, 3)-> (3, 2)-> (3, 3)-> (4, 3)-> (4, 2)-> (4, 3)-> (5, 3)-> (6, 3)-> (7, 3)-> (8, 3)-> (7, 3)-> (7, 2)-> (7, 3)-> (7, 4)-> (7, 3)-> (7, 2)-> (7, 3)-> (8, 3)-> (7, 3)-> (6, 3)-> (7, 3)-> (7, 2)-> (7, 1)-> (7, 2)-> (7, 3)-> (8, 3)-> (8, 4)-> (8, 3)-> (8, 4)-> (7, 4)-> (7, 3)-> (7, 4)-> (7, 5)-> (7, 4)-> (7, 3)-> (6, 3)-> (6, 4)-> (7, 4)-> (7, 5)-> (7, 4)-> (7, 5)-> (7, 4)-> (8, 4)-> (9, 4)-> (9, 3)-> (8, 3)-> (8, 4)-> (9, 4)-> (8, 4)-> (9, 4)-> (9, 5)-> (9, 4)-> (9, 5)-> (9, 6)-> (9, 7)-> (9, 8)-> (9, 9)-> (9, 8)-> (9, 7)-> (9, 6)-> (9, 5)-> (9, 4)-> (9, 3)-> (8, 3)-> (8, 4)-> (9, 4)-> (8, 4)-> (7, 4)-> (6, 4)-> (5, 4)-> (6, 4)-> (6, 3)-> (5, 3)-> (5, 4)-> (5, 3)-> (6, 3)-> (7, 3)-> (6, 3)-> (6, 4)-> (6, 3)-> (7, 3)-> (8, 3)-> (7, 3)-> (7, 2)-> (7, 3)-> (7, 2)-> (7, 3)-> (6, 3)-> (6, 4)-> (5, 4)-> (4, 4)-> (5, 4)-> (4, 4)-> (4, 3)-> (3, 3)-> (3, 2)-> (3, 1)-> (3, 2)-> (3, 3)-> (4, 3)-> (5, 3)-> (4, 3)-> (4, 2)-> (3, 2)-> (3, 1)-> (3, 2)-> (3, 1)-> (3, 2)-> (3, 1)-> (3, 2)-> (2, 2)-> (1, 2)-> (1, 1)-> (2, 1)-> (2, 2)-> (1, 2)-> (1, 3)-> (1, 4)-> (1, 3)-> (1, 2)-> (1, 1)-> (2, 1)-> (1, 1)-> (1, 2)-> (2, 2)-> (3, 2)-> (2, 2)-> (2, 1)-> (2, 2)-> (2, 1)-> (1, 1)-> (2, 1)-> (2, 2)-> (3, 2)-> (3, 1)-> (3, 2)-> (4, 2)-> (4, 3)-> (3, 3)-> (3, 2)-> (3, 3)-> (3, 2)-> (3, 3)-> (3, 2)-> (2, 2)-> (1, 2)-> (2, 2)-> (1, 2)-> (2, 2)-> (3, 2)-> (2, 2)-> (3, 2)-> (3, 1)-> (3, 2)-> (4, 2)-> (4, 3)-> (4, 4)-> (4, 3)-> (5, 3)-> (6, 3)-> (5, 3)-> (4, 3)-> (4, 4)-> (5, 4)-> (5, 5)-> (5, 4)-> (5, 5)-> (5, 6)-> (5, 7)-> (5, 6)-> (6, 6)-> (6, 7)-> (6, 8)-> (7, 8)-> (7, 9)-> (8, 9)-> (9, 9)-> (8, 9)-> (9, 9)-> (8, 9)-> (9, 9)-> (9, 8)-> (9, 7)-> (9, 8)-> (9, 7)-> (9, 6)-> (9, 5)-> (9, 6)-> (9, 5)-> (9, 4)-> (8, 4)-> (8, 3)-> (9, 3)-> (8, 3)-> (9, 3)-> (8, 3)-> (9, 3)-> (9, 4)-> (8, 4)-> (7, 4)-> (7, 5)-> (7, 4)-> (7, 5)-> (7, 4)-> (8, 4)-> (9, 4)-> (9, 3)-> (8, 3)-> (7, 3)-> (8, 3)-> (8, 4)-> (7, 4)-> (7, 3)-> (7, 4)-> (7, 5)-> (7, 4)-> (8, 4)-> (9, 4)-> (9, 3)-> (9, 4)-> (9, 3)-> (8, 3)-> (7, 3)-> (7, 2)-> (7, 3)-> (7, 2)-> (7, 1)-> (6, 1)-> (5, 1)-> (6, 1)-> (5, 1)-> (6, 1)-> (7, 1)-> (8, 1)-> (7, 1)-> (8, 1)-> (9, 1)-> (8, 1)-> (9, 1)-> (8, 1)-> (7, 1)-> (6, 1)-> (7, 1)-> (8, 1)-> (7, 1)-> (7, 2)-> (7, 1)-> (8, 1)-> (7, 1)-> (7, 2)-> (7, 1)-> (7, 2)-> (7, 1)-> (8, 1)-> (9, 1)-> (8, 1)-> (9, 1)-> (8, 1)-> (7, 1)-> (8, 1)-> (7, 1)-> (6, 1)-> (5, 1)-> (6, 1)-> (5, 1)-> (6, 1)-> (5, 1)-> (6, 1)-> (7, 1)-> (8, 1)-> (9, 1)-> (8, 1)-> (7, 1)-> (6, 1)-> (5, 1)-> (6, 1)-> (5, 1)-> (6, 1)-> (7, 1)-> (7, 2)-> (7, 3)-> (6, 3)-> (6, 4)-> (5, 4)-> (4, 4)-> (4, 3)-> (4, 2)-> (4, 3)-> (5, 3)-> (6, 3)-> (6, 4)-> (7, 4)-> (6, 4)-> (7, 4)-> (7, 3)-> (7, 2)-> (7, 1)-> (7, 2)-> (7, 1)-> (7, 2)-> (7, 1)-> (7, 2)-> (7, 1)-> (8, 1)-> (9, 1)-> (8, 1)-> (9, 1)-> (8, 1)-> (7, 1)-> (6, 1)-> (5, 1)-> (6, 1)-> (5, 1)-> (6, 1)-> (7, 1)-> (8, 1)-> (9, 1)-> (8, 1)-> (7, 1)-> (7, 2)-> (7, 3)-> (8, 3)-> (7, 3)-> (8, 3)-> (9, 3)-> (8, 3)-> (9, 3)-> (8, 3)-> (9, 3)-> (8, 3)-> (9, 3)-> (8, 3)-> (8, 4)-> (9, 4)-> (9, 5)-> (9, 4)-> (9, 5)-> (9, 4)-> (9, 3)-> (9, 4)-> (8, 4)-> (7, 4)-> (7, 3)-> (8, 3)-> (7, 3)-> (7, 4)-> (7, 3)-> (6, 3)-> (7, 3)-> (8, 3)-> (8, 4)-> (7, 4)-> (7, 5)-> (7, 4)-> (8, 4)-> (8, 3)-> (8, 4)-> (9, 4)-> (9, 5)-> (9, 6)-> (9, 5)-> (9, 6)-> (9, 5)-> (9, 4)-> (9, 5)-> (9, 4)-> (8, 4)-> (7, 4)-> (7, 5)-> (7, 4)-> (7, 5)-> (7, 4)-> (7, 5)-> (7, 4)-> (7, 5)-> (7, 4)-> (7, 5)-> (7, 4)-> (8, 4)-> (9, 4)-> (8, 4)-> (9, 4)-> (9, 3)-> (8, 3)-> (9, 3)-> (8, 3)-> (8, 4)-> (7, 4)-> (7, 3)-> (6, 3)-> (6, 4)-> (6, 3)-> (6, 4)-> (7, 4)-> (7, 5)-> (7, 4)-> (7, 3)-> (8, 3)-> (8, 4)-> (8, 3)-> (9, 3)-> (9, 4)-> (8, 4)-> (8, 3)-> (8, 4)-> (9, 4)-> (9, 3)-> (9, 4)-> (8, 4)-> (9, 4)-> (8, 4)-> (8, 3)-> (8, 4)-> (8, 3)-> (9, 3)-> (8, 3)-> (9, 3)-> (8, 3)-> (8, 4)-> (8, 3)-> (8, 4)-> (8, 3)-> (8, 4)-> (7, 4)-> (7, 3)-> (7, 2)-> (7, 3)-> (6, 3)-> (6, 4)-> (7, 4)-> (7, 5)-> (7, 4)-> (7, 3)-> (6, 3)-> (5, 3)-> (6, 3)-> (6, 4)-> (6, 3)-> (5, 3)-> (6, 3)-> (7, 3)-> (7, 2)-> (7, 3)-> (8, 3)-> (7, 3)-> (7, 2)-> (7, 3)-> (7, 2)-> (7, 1)-> (6, 1)-> (5, 1)-> (6, 1)-> (7, 1)-> (6, 1)-> (5, 1)-> (6, 1)-> (5, 1)-> (6, 1)-> (5, 1)-> (6, 1)-> (7, 1)-> (7, 2)-> (7, 1)-> (8, 1)-> (7, 1)-> (6, 1)-> (5, 1)-> (6, 1)-> (5, 1)-> (6, 1)-> (5, 1)-> (6, 1)-> (7, 1)-> (8, 1)-> (9, 1)-> (8, 1)-> (9, 1)-> (8, 1)-> (7, 1)-> (7, 2)-> (7, 3)-> (8, 3)-> (7, 3)-> (7, 4)-> (8, 4)-> (8, 3)-> (9, 3)-> (8, 3)-> (7, 3)-> (8, 3)-> (7, 3)-> (6, 3)-> (7, 3)-> (6, 3)-> (5, 3)-> (5, 4)-> (6, 4)-> (5, 4)-> (5, 3)-> (6, 3)-> (7, 3)-> (6, 3)-> (5, 3)-> (6, 3)-> (7, 3)-> (8, 3)-> (8, 4)-> (7, 4)-> (7, 3)-> (7, 2)-> (7, 3)-> (7, 2)-> (7, 3)-> (6, 3)-> (7, 3)-> (7, 2)-> (7, 3)-> (6, 3)-> (6, 4)-> (6, 3)-> (7, 3)-> (8, 3)-> (7, 3)-> (8, 3)-> (8, 4)-> (8, 3)-> (7, 3)-> (8, 3)-> (9, 3)-> (9, 4)-> (8, 4)-> (7, 4)-> (7, 5)-> (7, 4)-> (8, 4)-> (8, 3)-> (9, 3)-> (8, 3)-> (9, 3)-> (8, 3)-> (9, 3)-> (8, 3)-> (9, 3)-> (9, 4)-> (8, 4)-> (8, 3)-> (8, 4)-> (8, 3)-> (7, 3)-> (7, 2)-> (7, 3)-> (7, 4)-> (6, 4)-> (5, 4)-> (4, 4)-> (4, 3)-> (4, 4)-> (4, 3)-> (5, 3)-> (6, 3)-> (5, 3)-> (5, 4)-> (6, 4)-> (6, 3)-> (6, 4)-> (7, 4)-> (7, 3)-> (7, 4)-> (7, 3)-> (7, 2)-> (7, 1)-> (7, 2)-> (7, 1)-> (7, 2)-> (7, 1)-> (6, 1)-> (7, 1)-> (7, 2)-> (7, 3)-> (8, 3)-> (9, 3)-> (8, 3)-> (9, 3)-> (9, 4)-> (8, 4)-> (8, 3)-> (9, 3)-> (9, 4)-> (9, 3)-> (9, 4)-> (9, 5)-> (9, 4)-> (8, 4)-> (9, 4)-> (8, 4)-> (8, 3)-> (8, 4)-> (8, 3)-> (9, 3)-> (8, 3)-> (9, 3)-> (8, 3)-> (8, 4)-> (8, 3)-> (7, 3)-> (7, 4)-> (6, 4)-> (7, 4)-> (6, 4)-> (7, 4)-> (7, 5)-> (7, 4)-> (7, 3)-> (6, 3)-> (7, 3)-> (7, 2)-> (7, 3)-> (7, 4)-> (6, 4)-> (6, 3)-> (5, 3)-> (5, 4)-> (5, 3)-> (4, 3)-> (3, 3)-> (3, 2)-> (4, 2)-> (3, 2)-> (3, 3)-> (4, 3)-> (4, 4)-> (5, 4)-> (4, 4)-> (4, 3)-> (5, 3)-> (6, 3)-> (7, 3)-> (7, 2)-> (7, 1)-> (6, 1)-> (5, 1)-> (6, 1)-> (7, 1)-> (6, 1)-> (7, 1)-> (6, 1)-> (7, 1)-> (6, 1)-> (7, 1)-> (7, 2)-> (7, 1)-> (7, 2)-> (7, 3)-> (6, 3)-> (7, 3)-> (7, 4)-> (6, 4)-> (7, 4)-> (7, 5)-> (7, 4)-> (7, 5)-> (7, 4)-> (7, 5)-> (7, 4)-> (6, 4)-> (5, 4)-> (5, 5)-> (5, 4)-> (6, 4)-> (7, 4)-> (7, 5)-> (7, 4)-> (7, 5)-> (7, 4)-> (7, 5)-> (7, 4)-> (8, 4)-> (9, 4)-> (9, 5)-> (9, 6)-> (9, 5)-> (9, 4)-> (9, 3)-> (9, 4)-> (9, 5)-> (9, 6)-> (9, 7)-> (9, 6)-> (9, 7)-> (9, 6)-> (9, 7)-> (9, 8)-> (9, 7)-> (9, 6)-> (9, 5)-> (9, 6)-> (9, 7)-> (9, 6)-> (9, 7)-> (9, 8)-> (9, 7)-> (9, 8)-> (9, 9)-> (9, 8)-> (9, 9)-> (9, 8)-> (9, 9)-> (9, 8)-> (9, 7)-> (9, 6)-> (9, 7)-> (9, 8)-> (9, 9)-> (9, 8)-> (9, 7)-> (9, 8)-> (9, 7)-> (9, 6)-> (9, 7)-> (9, 8)-> (9, 9)-> (9, 8)-> (9, 9)-> (8, 9)-> (7, 9)-> (8, 9)-> (9, 9)-> (9, 8)-> (9, 9)-> (8, 9)-> (7, 9)-> (7, 8)-> (7, 9)-> (7, 8)-> (7, 7)-> (7, 8)-> (7, 9)-> (7, 8)-> (7, 7)-> (6, 7)-> (7, 7)-> (7, 8)-> (7, 7)-> (7, 8)-> (7, 9)-> (8, 9)-> (9, 9)-> (8, 9)-> (7, 9)-> (7, 8)-> (7, 7)-> (7, 8)-> (6, 8)-> (7, 8)-> (7, 7)-> (7, 8)-> (6, 8)-> (6, 7)-> (6, 8)-> (6, 9)-> (7, 9)-> (8, 9)-> (9, 9)-> (8, 9)-> (7, 9)-> (6, 9)-> (7, 9)-> (8, 9)-> (9, 9)-> (9, 8)-> (9, 7)-> (9, 6)-> (9, 7)-> (9, 6)-> (9, 7)-> (9, 6)-> (9, 7)-> (9, 8)-> (9, 9)-> (9, 8)-> (9, 9)-> (8, 9)-> (7, 9)-> (7, 8)-> (6, 8)-> (6, 9)-> (6, 8)-> (6, 9)-> (7, 9)-> (6, 9)-> (5, 9)-> (5, 8)-> (5, 7)-> (5, 6)-> (5, 7)-> (5, 8)-> (6, 8)-> (5, 8)-> (5, 9)-> (6, 9)-> (6, 8)-> (6, 7)-> (7, 7)-> (7, 8)-> (7, 7)-> (6, 7)-> (6, 8)-> (7, 8)-> (6, 8)-> (6, 9)-> (7, 9)-> (6, 9)-> (6, 8)-> (6, 7)-> (7, 7)-> (6, 7)-> (6, 8)-> (6, 7)-> (7, 7)-> (7, 8)-> (7, 9)-> (7, 8)-> (7, 7)-> (7, 8)-> (7, 7)-> (7, 8)-> (7, 9)-> (8, 9)-> (7, 9)-> (8, 9)-> (7, 9)-> (7, 8)-> (7, 7)-> (6, 7)-> (7, 7)-> (6, 7)-> (5, 7)-> (5, 8)-> (5, 9)-> (4, 9)-> (3, 9)-> (2, 9)-> (1, 9)-> (2, 9)-> (1, 9)-> (1, 8)-> (1, 7)-> (1, 8)-> (1, 7)-> (1, 8)-> (1, 7)-> (1, 8)-> (1, 9)-> (1, 8)-> (1, 7)-> (2, 7)-> (3, 7)-> Maze fully explored!\n",
      "Cells explored: 59.0\n",
      "Number of steps: 1687\n",
      "28  Steps per Cell Explored\n",
      "Total reward: 2536\n"
     ]
    },
    {
     "data": {
      "text/plain": [
       "<Figure size 640x480 with 1 Axes>"
      ],
      "image/png": "[encoded data removed]"
     },
     "metadata": {},
     "output_type": "display_data"
    },
    {
     "data": {
      "text/plain": [
       "(1687, 2536)"
      ]
     },
     "execution_count": 123,
     "metadata": {},
     "output_type": "execute_result"
    }
   ],
   "execution_count": 123
  },
  {
   "metadata": {},
   "cell_type": "code",
   "outputs": [],
   "execution_count": null,
   "source": "",
   "id": "23bc4b0391d9efef"
  }
 ],
 "metadata": {
  "kernelspec": {
   "display_name": "Python 3",
   "language": "python",
   "name": "python3"
  },
  "language_info": {
   "codemirror_mode": {
    "name": "ipython",
    "version": 2
   },
   "file_extension": ".py",
   "mimetype": "text/x-python",
   "name": "python",
   "nbconvert_exporter": "python",
   "pygments_lexer": "ipython2",
   "version": "2.7.6"
  }
 },
 "nbformat": 4,
 "nbformat_minor": 5
}
